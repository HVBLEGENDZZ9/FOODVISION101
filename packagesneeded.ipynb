{
 "cells": [
  {
   "cell_type": "code",
   "execution_count": 6,
   "metadata": {},
   "outputs": [
    {
     "name": "stdout",
     "output_type": "stream",
     "text": [
      "Collecting numpy\n",
      "  Downloading numpy-1.21.4-cp39-cp39-win_amd64.whl (14.0 MB)\n",
      "Installing collected packages: numpy\n",
      "Successfully installed numpy-1.21.4\n"
     ]
    },
    {
     "name": "stderr",
     "output_type": "stream",
     "text": [
      "WARNING: You are using pip version 20.2.3; however, version 21.3.1 is available.\n",
      "You should consider upgrading via the 'c:\\users\\harshvardhan bhosale\\onedrive\\desktop\\foodvision101\\venv1\\scripts\\python.exe -m pip install --upgrade pip' command.\n"
     ]
    }
   ],
   "source": [
    "!pip install numpy"
   ]
  },
  {
   "cell_type": "code",
   "execution_count": 11,
   "metadata": {},
   "outputs": [
    {
     "name": "stdout",
     "output_type": "stream",
     "text": [
      "Collecting sklearn\n",
      "  Using cached sklearn-0.0-py2.py3-none-any.whl\n",
      "Collecting scikit-learn\n",
      "  Downloading scikit_learn-1.0.1-cp39-cp39-win_amd64.whl (7.2 MB)\n",
      "Collecting joblib>=0.11\n",
      "  Downloading joblib-1.1.0-py2.py3-none-any.whl (306 kB)\n",
      "Collecting threadpoolctl>=2.0.0\n",
      "  Downloading threadpoolctl-3.0.0-py3-none-any.whl (14 kB)\n",
      "Requirement already satisfied: numpy>=1.14.6 in c:\\users\\harshvardhan bhosale\\onedrive\\desktop\\foodvision101\\venv1\\lib\\site-packages (from scikit-learn->sklearn) (1.21.4)\n",
      "Collecting scipy>=1.1.0\n",
      "  Downloading scipy-1.7.2-cp39-cp39-win_amd64.whl (34.3 MB)\n",
      "Installing collected packages: threadpoolctl, scipy, joblib, scikit-learn, sklearn\n",
      "Successfully installed joblib-1.1.0 scikit-learn-1.0.1 scipy-1.7.2 sklearn-0.0 threadpoolctl-3.0.0\n"
     ]
    }
   ],
   "source": [
    "!pip install sklearn"
   ]
  },
  {
   "cell_type": "code",
   "execution_count": 12,
   "metadata": {},
   "outputs": [
    {
     "name": "stdout",
     "output_type": "stream",
     "text": [
      "Requirement already satisfied: scipy in c:\\users\\harshvardhan bhosale\\onedrive\\desktop\\foodvision101\\venv1\\lib\\site-packages (1.7.2)\n",
      "Requirement already satisfied: numpy<1.23.0,>=1.16.5 in c:\\users\\harshvardhan bhosale\\onedrive\\desktop\\foodvision101\\venv1\\lib\\site-packages (from scipy) (1.21.4)\n"
     ]
    }
   ],
   "source": [
    "!pip install scipy"
   ]
  },
  {
   "cell_type": "code",
   "execution_count": 13,
   "metadata": {},
   "outputs": [
    {
     "name": "stdout",
     "output_type": "stream",
     "text": [
      "Requirement already satisfied: sklearn in c:\\users\\harshvardhan bhosale\\onedrive\\desktop\\foodvision101\\venv1\\lib\\site-packages (0.0)\n",
      "Requirement already satisfied: scikit-learn in c:\\users\\harshvardhan bhosale\\onedrive\\desktop\\foodvision101\\venv1\\lib\\site-packages (from sklearn) (1.0.1)\n",
      "Requirement already satisfied: numpy>=1.14.6 in c:\\users\\harshvardhan bhosale\\onedrive\\desktop\\foodvision101\\venv1\\lib\\site-packages (from scikit-learn->sklearn) (1.21.4)\n",
      "Requirement already satisfied: threadpoolctl>=2.0.0 in c:\\users\\harshvardhan bhosale\\onedrive\\desktop\\foodvision101\\venv1\\lib\\site-packages (from scikit-learn->sklearn) (3.0.0)\n",
      "Requirement already satisfied: scipy>=1.1.0 in c:\\users\\harshvardhan bhosale\\onedrive\\desktop\\foodvision101\\venv1\\lib\\site-packages (from scikit-learn->sklearn) (1.7.2)\n",
      "Requirement already satisfied: joblib>=0.11 in c:\\users\\harshvardhan bhosale\\onedrive\\desktop\\foodvision101\\venv1\\lib\\site-packages (from scikit-learn->sklearn) (1.1.0)\n"
     ]
    }
   ],
   "source": [
    "!pip install sklearn"
   ]
  },
  {
   "cell_type": "code",
   "execution_count": 14,
   "metadata": {},
   "outputs": [
    {
     "name": "stdout",
     "output_type": "stream",
     "text": [
      "Package           Version\n",
      "----------------- -------\n",
      "backcall          0.2.0\n",
      "colorama          0.4.4\n",
      "debugpy           1.5.1\n",
      "decorator         5.1.0\n",
      "entrypoints       0.3\n",
      "ipykernel         6.5.0\n",
      "ipython           7.29.0\n",
      "jedi              0.18.0\n",
      "joblib            1.1.0\n",
      "jupyter-client    7.0.6\n",
      "jupyter-core      4.9.1\n",
      "matplotlib-inline 0.1.3\n",
      "nest-asyncio      1.5.1\n",
      "numpy             1.21.4\n",
      "parso             0.8.2\n",
      "pickleshare       0.7.5\n",
      "pip               21.3.1\n",
      "prompt-toolkit    3.0.22\n",
      "Pygments          2.10.0\n",
      "python-dateutil   2.8.2\n",
      "pywin32           302\n",
      "pyzmq             22.3.0\n",
      "scikit-learn      1.0.1\n",
      "scipy             1.7.2\n",
      "setuptools        49.2.1\n",
      "six               1.16.0\n",
      "sklearn           0.0\n",
      "threadpoolctl     3.0.0\n",
      "tornado           6.1\n",
      "traitlets         5.1.1\n",
      "wcwidth           0.2.5\n"
     ]
    }
   ],
   "source": [
    "!pip list"
   ]
  },
  {
   "cell_type": "code",
   "execution_count": 17,
   "metadata": {},
   "outputs": [
    {
     "name": "stdout",
     "output_type": "stream",
     "text": [
      "Collecting tensorflow\n",
      "  Downloading tensorflow-2.7.0-cp39-cp39-win_amd64.whl (430.8 MB)\n",
      "Collecting libclang>=9.0.1\n",
      "  Using cached libclang-12.0.0-py2.py3-none-win_amd64.whl (13.1 MB)\n",
      "Collecting opt-einsum>=2.3.2\n",
      "  Using cached opt_einsum-3.3.0-py3-none-any.whl (65 kB)\n",
      "Collecting astunparse>=1.6.0\n",
      "  Using cached astunparse-1.6.3-py2.py3-none-any.whl (12 kB)\n",
      "Collecting google-pasta>=0.1.1\n",
      "  Using cached google_pasta-0.2.0-py3-none-any.whl (57 kB)\n",
      "Collecting typing-extensions>=3.6.6\n",
      "  Downloading typing_extensions-3.10.0.2-py3-none-any.whl (26 kB)\n",
      "Collecting grpcio<2.0,>=1.24.3\n",
      "  Downloading grpcio-1.41.1-cp39-cp39-win_amd64.whl (3.2 MB)\n",
      "Collecting termcolor>=1.1.0\n",
      "  Using cached termcolor-1.1.0-py3-none-any.whl\n",
      "Requirement already satisfied: six>=1.12.0 in c:\\users\\harshvardhan bhosale\\onedrive\\desktop\\foodvision101\\venv1\\lib\\site-packages (from tensorflow) (1.16.0)\n",
      "Collecting tensorboard~=2.6\n",
      "  Downloading tensorboard-2.7.0-py3-none-any.whl (5.8 MB)\n",
      "Collecting gast<0.5.0,>=0.2.1\n",
      "  Using cached gast-0.4.0-py3-none-any.whl (9.8 kB)\n",
      "Collecting wheel<1.0,>=0.32.0\n",
      "  Using cached wheel-0.37.0-py2.py3-none-any.whl (35 kB)\n",
      "Collecting h5py>=2.9.0\n",
      "  Downloading h5py-3.5.0-cp39-cp39-win_amd64.whl (2.8 MB)\n",
      "Collecting keras<2.8,>=2.7.0rc0\n",
      "  Using cached keras-2.7.0-py2.py3-none-any.whl (1.3 MB)\n",
      "Collecting absl-py>=0.4.0\n",
      "  Downloading absl_py-0.15.0-py3-none-any.whl (132 kB)\n",
      "Requirement already satisfied: numpy>=1.14.5 in c:\\users\\harshvardhan bhosale\\onedrive\\desktop\\foodvision101\\venv1\\lib\\site-packages (from tensorflow) (1.21.4)\n",
      "Collecting tensorflow-io-gcs-filesystem>=0.21.0\n",
      "  Using cached tensorflow_io_gcs_filesystem-0.21.0-cp39-cp39-win_amd64.whl (1.5 MB)\n",
      "Collecting wrapt>=1.11.0\n",
      "  Downloading wrapt-1.13.3-cp39-cp39-win_amd64.whl (34 kB)\n",
      "Collecting keras-preprocessing>=1.1.1\n",
      "  Using cached Keras_Preprocessing-1.1.2-py2.py3-none-any.whl (42 kB)\n",
      "Collecting flatbuffers<3.0,>=1.12\n",
      "  Downloading flatbuffers-2.0-py2.py3-none-any.whl (26 kB)\n",
      "Collecting tensorflow-estimator<2.8,~=2.7.0rc0\n",
      "  Using cached tensorflow_estimator-2.7.0-py2.py3-none-any.whl (463 kB)\n",
      "Collecting protobuf>=3.9.2\n",
      "  Downloading protobuf-3.19.1-cp39-cp39-win_amd64.whl (895 kB)\n",
      "Collecting markdown>=2.6.8\n",
      "  Using cached Markdown-3.3.4-py3-none-any.whl (97 kB)\n",
      "Collecting google-auth-oauthlib<0.5,>=0.4.1\n",
      "  Using cached google_auth_oauthlib-0.4.6-py2.py3-none-any.whl (18 kB)\n",
      "Collecting requests<3,>=2.21.0\n",
      "  Using cached requests-2.26.0-py2.py3-none-any.whl (62 kB)\n",
      "Collecting werkzeug>=0.11.15\n",
      "  Downloading Werkzeug-2.0.2-py3-none-any.whl (288 kB)\n",
      "Collecting tensorboard-data-server<0.7.0,>=0.6.0\n",
      "  Using cached tensorboard_data_server-0.6.1-py3-none-any.whl (2.4 kB)\n",
      "Collecting tensorboard-plugin-wit>=1.6.0\n",
      "  Using cached tensorboard_plugin_wit-1.8.0-py3-none-any.whl (781 kB)\n",
      "Requirement already satisfied: setuptools>=41.0.0 in c:\\users\\harshvardhan bhosale\\onedrive\\desktop\\foodvision101\\venv1\\lib\\site-packages (from tensorboard~=2.6->tensorflow) (49.2.1)\n",
      "Collecting google-auth<3,>=1.6.3\n",
      "  Downloading google_auth-2.3.3-py2.py3-none-any.whl (155 kB)\n",
      "Collecting rsa<5,>=3.1.4\n",
      "  Using cached rsa-4.7.2-py3-none-any.whl (34 kB)\n",
      "Collecting cachetools<5.0,>=2.0.0\n",
      "  Downloading cachetools-4.2.4-py3-none-any.whl (10 kB)\n",
      "Collecting pyasn1-modules>=0.2.1\n",
      "  Using cached pyasn1_modules-0.2.8-py2.py3-none-any.whl (155 kB)\n",
      "Collecting requests-oauthlib>=0.7.0\n",
      "  Using cached requests_oauthlib-1.3.0-py2.py3-none-any.whl (23 kB)\n",
      "Collecting charset-normalizer~=2.0.0\n",
      "  Downloading charset_normalizer-2.0.7-py3-none-any.whl (38 kB)\n",
      "Collecting urllib3<1.27,>=1.21.1\n",
      "  Downloading urllib3-1.26.7-py2.py3-none-any.whl (138 kB)\n",
      "Collecting idna<4,>=2.5\n",
      "  Downloading idna-3.3-py3-none-any.whl (61 kB)\n",
      "Collecting certifi>=2017.4.17\n",
      "  Downloading certifi-2021.10.8-py2.py3-none-any.whl (149 kB)\n",
      "Collecting pyasn1<0.5.0,>=0.4.6\n",
      "  Using cached pyasn1-0.4.8-py2.py3-none-any.whl (77 kB)\n",
      "Collecting oauthlib>=3.0.0\n",
      "  Using cached oauthlib-3.1.1-py2.py3-none-any.whl (146 kB)\n",
      "Installing collected packages: urllib3, pyasn1, idna, charset-normalizer, certifi, rsa, requests, pyasn1-modules, oauthlib, cachetools, requests-oauthlib, google-auth, wheel, werkzeug, tensorboard-plugin-wit, tensorboard-data-server, protobuf, markdown, grpcio, google-auth-oauthlib, absl-py, wrapt, typing-extensions, termcolor, tensorflow-io-gcs-filesystem, tensorflow-estimator, tensorboard, opt-einsum, libclang, keras-preprocessing, keras, h5py, google-pasta, gast, flatbuffers, astunparse, tensorflow\n",
      "Successfully installed absl-py-0.15.0 astunparse-1.6.3 cachetools-4.2.4 certifi-2021.10.8 charset-normalizer-2.0.7 flatbuffers-2.0 gast-0.4.0 google-auth-2.3.3 google-auth-oauthlib-0.4.6 google-pasta-0.2.0 grpcio-1.41.1 h5py-3.5.0 idna-3.3 keras-2.7.0 keras-preprocessing-1.1.2 libclang-12.0.0 markdown-3.3.4 oauthlib-3.1.1 opt-einsum-3.3.0 protobuf-3.19.1 pyasn1-0.4.8 pyasn1-modules-0.2.8 requests-2.26.0 requests-oauthlib-1.3.0 rsa-4.7.2 tensorboard-2.7.0 tensorboard-data-server-0.6.1 tensorboard-plugin-wit-1.8.0 tensorflow-2.7.0 tensorflow-estimator-2.7.0 tensorflow-io-gcs-filesystem-0.21.0 termcolor-1.1.0 typing-extensions-3.10.0.2 urllib3-1.26.7 werkzeug-2.0.2 wheel-0.37.0 wrapt-1.13.3\n"
     ]
    }
   ],
   "source": [
    "!pip install tensorflow"
   ]
  },
  {
   "cell_type": "code",
   "execution_count": 18,
   "metadata": {},
   "outputs": [
    {
     "name": "stdout",
     "output_type": "stream",
     "text": [
      "Collecting matplotlib\n",
      "  Using cached matplotlib-3.4.3-cp39-cp39-win_amd64.whl (7.1 MB)\n",
      "Collecting pyparsing>=2.2.1\n",
      "  Downloading pyparsing-3.0.5-py3-none-any.whl (97 kB)\n",
      "Collecting cycler>=0.10\n",
      "  Downloading cycler-0.11.0-py3-none-any.whl (6.4 kB)\n",
      "Collecting kiwisolver>=1.0.1\n",
      "  Using cached kiwisolver-1.3.2-cp39-cp39-win_amd64.whl (52 kB)\n",
      "Requirement already satisfied: numpy>=1.16 in c:\\users\\harshvardhan bhosale\\onedrive\\desktop\\foodvision101\\venv1\\lib\\site-packages (from matplotlib) (1.21.4)\n",
      "Collecting pillow>=6.2.0\n",
      "  Downloading Pillow-8.4.0-cp39-cp39-win_amd64.whl (3.2 MB)\n",
      "Requirement already satisfied: python-dateutil>=2.7 in c:\\users\\harshvardhan bhosale\\onedrive\\desktop\\foodvision101\\venv1\\lib\\site-packages (from matplotlib) (2.8.2)\n",
      "Requirement already satisfied: six>=1.5 in c:\\users\\harshvardhan bhosale\\onedrive\\desktop\\foodvision101\\venv1\\lib\\site-packages (from python-dateutil>=2.7->matplotlib) (1.16.0)\n",
      "Installing collected packages: pyparsing, pillow, kiwisolver, cycler, matplotlib\n",
      "Successfully installed cycler-0.11.0 kiwisolver-1.3.2 matplotlib-3.4.3 pillow-8.4.0 pyparsing-3.0.5\n"
     ]
    }
   ],
   "source": [
    "!pip install matplotlib"
   ]
  },
  {
   "cell_type": "code",
   "execution_count": 19,
   "metadata": {},
   "outputs": [
    {
     "name": "stdout",
     "output_type": "stream",
     "text": [
      "Collecting tensorflow-gpu\n",
      "  Using cached tensorflow_gpu-2.7.0-cp39-cp39-win_amd64.whl (430.8 MB)\n",
      "Requirement already satisfied: wrapt>=1.11.0 in c:\\users\\harshvardhan bhosale\\onedrive\\desktop\\foodvision101\\venv1\\lib\\site-packages (from tensorflow-gpu) (1.13.3)\n",
      "Requirement already satisfied: keras<2.8,>=2.7.0rc0 in c:\\users\\harshvardhan bhosale\\onedrive\\desktop\\foodvision101\\venv1\\lib\\site-packages (from tensorflow-gpu) (2.7.0)\n",
      "Requirement already satisfied: tensorflow-io-gcs-filesystem>=0.21.0 in c:\\users\\harshvardhan bhosale\\onedrive\\desktop\\foodvision101\\venv1\\lib\\site-packages (from tensorflow-gpu) (0.21.0)\n",
      "Requirement already satisfied: absl-py>=0.4.0 in c:\\users\\harshvardhan bhosale\\onedrive\\desktop\\foodvision101\\venv1\\lib\\site-packages (from tensorflow-gpu) (0.15.0)\n",
      "Requirement already satisfied: keras-preprocessing>=1.1.1 in c:\\users\\harshvardhan bhosale\\onedrive\\desktop\\foodvision101\\venv1\\lib\\site-packages (from tensorflow-gpu) (1.1.2)\n",
      "Requirement already satisfied: tensorflow-estimator<2.8,~=2.7.0rc0 in c:\\users\\harshvardhan bhosale\\onedrive\\desktop\\foodvision101\\venv1\\lib\\site-packages (from tensorflow-gpu) (2.7.0)\n",
      "Requirement already satisfied: astunparse>=1.6.0 in c:\\users\\harshvardhan bhosale\\onedrive\\desktop\\foodvision101\\venv1\\lib\\site-packages (from tensorflow-gpu) (1.6.3)\n",
      "Requirement already satisfied: flatbuffers<3.0,>=1.12 in c:\\users\\harshvardhan bhosale\\onedrive\\desktop\\foodvision101\\venv1\\lib\\site-packages (from tensorflow-gpu) (2.0)\n",
      "Requirement already satisfied: six>=1.12.0 in c:\\users\\harshvardhan bhosale\\onedrive\\desktop\\foodvision101\\venv1\\lib\\site-packages (from tensorflow-gpu) (1.16.0)\n",
      "Requirement already satisfied: protobuf>=3.9.2 in c:\\users\\harshvardhan bhosale\\onedrive\\desktop\\foodvision101\\venv1\\lib\\site-packages (from tensorflow-gpu) (3.19.1)\n",
      "Requirement already satisfied: google-pasta>=0.1.1 in c:\\users\\harshvardhan bhosale\\onedrive\\desktop\\foodvision101\\venv1\\lib\\site-packages (from tensorflow-gpu) (0.2.0)\n",
      "Requirement already satisfied: libclang>=9.0.1 in c:\\users\\harshvardhan bhosale\\onedrive\\desktop\\foodvision101\\venv1\\lib\\site-packages (from tensorflow-gpu) (12.0.0)\n",
      "Requirement already satisfied: wheel<1.0,>=0.32.0 in c:\\users\\harshvardhan bhosale\\onedrive\\desktop\\foodvision101\\venv1\\lib\\site-packages (from tensorflow-gpu) (0.37.0)\n",
      "Requirement already satisfied: grpcio<2.0,>=1.24.3 in c:\\users\\harshvardhan bhosale\\onedrive\\desktop\\foodvision101\\venv1\\lib\\site-packages (from tensorflow-gpu) (1.41.1)\n",
      "Requirement already satisfied: termcolor>=1.1.0 in c:\\users\\harshvardhan bhosale\\onedrive\\desktop\\foodvision101\\venv1\\lib\\site-packages (from tensorflow-gpu) (1.1.0)\n",
      "Requirement already satisfied: gast<0.5.0,>=0.2.1 in c:\\users\\harshvardhan bhosale\\onedrive\\desktop\\foodvision101\\venv1\\lib\\site-packages (from tensorflow-gpu) (0.4.0)\n",
      "Requirement already satisfied: h5py>=2.9.0 in c:\\users\\harshvardhan bhosale\\onedrive\\desktop\\foodvision101\\venv1\\lib\\site-packages (from tensorflow-gpu) (3.5.0)\n",
      "Requirement already satisfied: numpy>=1.14.5 in c:\\users\\harshvardhan bhosale\\onedrive\\desktop\\foodvision101\\venv1\\lib\\site-packages (from tensorflow-gpu) (1.21.4)\n",
      "Requirement already satisfied: typing-extensions>=3.6.6 in c:\\users\\harshvardhan bhosale\\onedrive\\desktop\\foodvision101\\venv1\\lib\\site-packages (from tensorflow-gpu) (3.10.0.2)\n",
      "Requirement already satisfied: opt-einsum>=2.3.2 in c:\\users\\harshvardhan bhosale\\onedrive\\desktop\\foodvision101\\venv1\\lib\\site-packages (from tensorflow-gpu) (3.3.0)\n",
      "Requirement already satisfied: tensorboard~=2.6 in c:\\users\\harshvardhan bhosale\\onedrive\\desktop\\foodvision101\\venv1\\lib\\site-packages (from tensorflow-gpu) (2.7.0)\n",
      "Requirement already satisfied: tensorboard-plugin-wit>=1.6.0 in c:\\users\\harshvardhan bhosale\\onedrive\\desktop\\foodvision101\\venv1\\lib\\site-packages (from tensorboard~=2.6->tensorflow-gpu) (1.8.0)\n",
      "Requirement already satisfied: werkzeug>=0.11.15 in c:\\users\\harshvardhan bhosale\\onedrive\\desktop\\foodvision101\\venv1\\lib\\site-packages (from tensorboard~=2.6->tensorflow-gpu) (2.0.2)\n",
      "Requirement already satisfied: requests<3,>=2.21.0 in c:\\users\\harshvardhan bhosale\\onedrive\\desktop\\foodvision101\\venv1\\lib\\site-packages (from tensorboard~=2.6->tensorflow-gpu) (2.26.0)\n",
      "Requirement already satisfied: google-auth<3,>=1.6.3 in c:\\users\\harshvardhan bhosale\\onedrive\\desktop\\foodvision101\\venv1\\lib\\site-packages (from tensorboard~=2.6->tensorflow-gpu) (2.3.3)\n",
      "Requirement already satisfied: setuptools>=41.0.0 in c:\\users\\harshvardhan bhosale\\onedrive\\desktop\\foodvision101\\venv1\\lib\\site-packages (from tensorboard~=2.6->tensorflow-gpu) (49.2.1)\n",
      "Requirement already satisfied: google-auth-oauthlib<0.5,>=0.4.1 in c:\\users\\harshvardhan bhosale\\onedrive\\desktop\\foodvision101\\venv1\\lib\\site-packages (from tensorboard~=2.6->tensorflow-gpu) (0.4.6)\n",
      "Requirement already satisfied: markdown>=2.6.8 in c:\\users\\harshvardhan bhosale\\onedrive\\desktop\\foodvision101\\venv1\\lib\\site-packages (from tensorboard~=2.6->tensorflow-gpu) (3.3.4)\n",
      "Requirement already satisfied: tensorboard-data-server<0.7.0,>=0.6.0 in c:\\users\\harshvardhan bhosale\\onedrive\\desktop\\foodvision101\\venv1\\lib\\site-packages (from tensorboard~=2.6->tensorflow-gpu) (0.6.1)\n",
      "Requirement already satisfied: pyasn1-modules>=0.2.1 in c:\\users\\harshvardhan bhosale\\onedrive\\desktop\\foodvision101\\venv1\\lib\\site-packages (from google-auth<3,>=1.6.3->tensorboard~=2.6->tensorflow-gpu) (0.2.8)\n",
      "Requirement already satisfied: cachetools<5.0,>=2.0.0 in c:\\users\\harshvardhan bhosale\\onedrive\\desktop\\foodvision101\\venv1\\lib\\site-packages (from google-auth<3,>=1.6.3->tensorboard~=2.6->tensorflow-gpu) (4.2.4)\n",
      "Requirement already satisfied: rsa<5,>=3.1.4 in c:\\users\\harshvardhan bhosale\\onedrive\\desktop\\foodvision101\\venv1\\lib\\site-packages (from google-auth<3,>=1.6.3->tensorboard~=2.6->tensorflow-gpu) (4.7.2)\n",
      "Requirement already satisfied: requests-oauthlib>=0.7.0 in c:\\users\\harshvardhan bhosale\\onedrive\\desktop\\foodvision101\\venv1\\lib\\site-packages (from google-auth-oauthlib<0.5,>=0.4.1->tensorboard~=2.6->tensorflow-gpu) (1.3.0)\n",
      "Requirement already satisfied: idna<4,>=2.5 in c:\\users\\harshvardhan bhosale\\onedrive\\desktop\\foodvision101\\venv1\\lib\\site-packages (from requests<3,>=2.21.0->tensorboard~=2.6->tensorflow-gpu) (3.3)\n",
      "Requirement already satisfied: urllib3<1.27,>=1.21.1 in c:\\users\\harshvardhan bhosale\\onedrive\\desktop\\foodvision101\\venv1\\lib\\site-packages (from requests<3,>=2.21.0->tensorboard~=2.6->tensorflow-gpu) (1.26.7)\n",
      "Requirement already satisfied: certifi>=2017.4.17 in c:\\users\\harshvardhan bhosale\\onedrive\\desktop\\foodvision101\\venv1\\lib\\site-packages (from requests<3,>=2.21.0->tensorboard~=2.6->tensorflow-gpu) (2021.10.8)\n",
      "Requirement already satisfied: charset-normalizer~=2.0.0 in c:\\users\\harshvardhan bhosale\\onedrive\\desktop\\foodvision101\\venv1\\lib\\site-packages (from requests<3,>=2.21.0->tensorboard~=2.6->tensorflow-gpu) (2.0.7)\n",
      "Requirement already satisfied: pyasn1<0.5.0,>=0.4.6 in c:\\users\\harshvardhan bhosale\\onedrive\\desktop\\foodvision101\\venv1\\lib\\site-packages (from pyasn1-modules>=0.2.1->google-auth<3,>=1.6.3->tensorboard~=2.6->tensorflow-gpu) (0.4.8)\n",
      "Requirement already satisfied: oauthlib>=3.0.0 in c:\\users\\harshvardhan bhosale\\onedrive\\desktop\\foodvision101\\venv1\\lib\\site-packages (from requests-oauthlib>=0.7.0->google-auth-oauthlib<0.5,>=0.4.1->tensorboard~=2.6->tensorflow-gpu) (3.1.1)\n",
      "Installing collected packages: tensorflow-gpu\n",
      "Successfully installed tensorflow-gpu-2.7.0\n"
     ]
    }
   ],
   "source": [
    "!pip install tensorflow-gpu"
   ]
  },
  {
   "cell_type": "code",
   "execution_count": 20,
   "metadata": {},
   "outputs": [
    {
     "name": "stdout",
     "output_type": "stream",
     "text": [
      "Collecting tensorflow-datasets\n",
      "  Downloading tensorflow_datasets-4.4.0-py3-none-any.whl (4.0 MB)\n",
      "Collecting tqdm\n",
      "  Downloading tqdm-4.62.3-py2.py3-none-any.whl (76 kB)\n",
      "Collecting promise\n",
      "  Downloading promise-2.3.tar.gz (19 kB)\n",
      "  Preparing metadata (setup.py): started\n",
      "  Preparing metadata (setup.py): finished with status 'done'\n",
      "Requirement already satisfied: requests>=2.19.0 in c:\\users\\harshvardhan bhosale\\onedrive\\desktop\\foodvision101\\venv1\\lib\\site-packages (from tensorflow-datasets) (2.26.0)\n",
      "Requirement already satisfied: absl-py in c:\\users\\harshvardhan bhosale\\onedrive\\desktop\\foodvision101\\venv1\\lib\\site-packages (from tensorflow-datasets) (0.15.0)\n",
      "Collecting attrs>=18.1.0\n",
      "  Using cached attrs-21.2.0-py2.py3-none-any.whl (53 kB)\n",
      "Requirement already satisfied: numpy in c:\\users\\harshvardhan bhosale\\onedrive\\desktop\\foodvision101\\venv1\\lib\\site-packages (from tensorflow-datasets) (1.21.4)\n",
      "Requirement already satisfied: protobuf>=3.12.2 in c:\\users\\harshvardhan bhosale\\onedrive\\desktop\\foodvision101\\venv1\\lib\\site-packages (from tensorflow-datasets) (3.19.1)\n",
      "Requirement already satisfied: six in c:\\users\\harshvardhan bhosale\\onedrive\\desktop\\foodvision101\\venv1\\lib\\site-packages (from tensorflow-datasets) (1.16.0)\n",
      "Collecting future\n",
      "  Downloading future-0.18.2.tar.gz (829 kB)\n",
      "  Preparing metadata (setup.py): started\n",
      "  Preparing metadata (setup.py): finished with status 'done'\n",
      "Collecting tensorflow-metadata\n",
      "  Downloading tensorflow_metadata-1.4.0-py3-none-any.whl (48 kB)\n",
      "Collecting dill\n",
      "  Downloading dill-0.3.4-py2.py3-none-any.whl (86 kB)\n",
      "Requirement already satisfied: termcolor in c:\\users\\harshvardhan bhosale\\onedrive\\desktop\\foodvision101\\venv1\\lib\\site-packages (from tensorflow-datasets) (1.1.0)\n",
      "Requirement already satisfied: urllib3<1.27,>=1.21.1 in c:\\users\\harshvardhan bhosale\\onedrive\\desktop\\foodvision101\\venv1\\lib\\site-packages (from requests>=2.19.0->tensorflow-datasets) (1.26.7)\n",
      "Requirement already satisfied: certifi>=2017.4.17 in c:\\users\\harshvardhan bhosale\\onedrive\\desktop\\foodvision101\\venv1\\lib\\site-packages (from requests>=2.19.0->tensorflow-datasets) (2021.10.8)\n",
      "Requirement already satisfied: idna<4,>=2.5 in c:\\users\\harshvardhan bhosale\\onedrive\\desktop\\foodvision101\\venv1\\lib\\site-packages (from requests>=2.19.0->tensorflow-datasets) (3.3)\n",
      "Requirement already satisfied: charset-normalizer~=2.0.0 in c:\\users\\harshvardhan bhosale\\onedrive\\desktop\\foodvision101\\venv1\\lib\\site-packages (from requests>=2.19.0->tensorflow-datasets) (2.0.7)\n",
      "Collecting googleapis-common-protos<2,>=1.52.0\n",
      "  Downloading googleapis_common_protos-1.53.0-py2.py3-none-any.whl (198 kB)\n",
      "Collecting absl-py\n",
      "  Downloading absl_py-0.12.0-py3-none-any.whl (129 kB)\n",
      "Requirement already satisfied: colorama in c:\\users\\harshvardhan bhosale\\onedrive\\desktop\\foodvision101\\venv1\\lib\\site-packages (from tqdm->tensorflow-datasets) (0.4.4)\n",
      "Building wheels for collected packages: future, promise\n",
      "  Building wheel for future (setup.py): started\n",
      "  Building wheel for future (setup.py): finished with status 'done'\n",
      "  Created wheel for future: filename=future-0.18.2-py3-none-any.whl size=491058 sha256=7ba84c0346dc702860e4ec899560141b2639dca4511acc79e090f89a4c2847b3\n",
      "  Stored in directory: c:\\users\\harshvardhan bhosale\\appdata\\local\\pip\\cache\\wheels\\2f\\a0\\d3\\4030d9f80e6b3be787f19fc911b8e7aa462986a40ab1e4bb94\n",
      "  Building wheel for promise (setup.py): started\n",
      "  Building wheel for promise (setup.py): finished with status 'done'\n",
      "  Created wheel for promise: filename=promise-2.3-py3-none-any.whl size=21493 sha256=c973d59e0313c7bc65acd2139e2082e588b9da11f8664633e2f4dcc482813083\n",
      "  Stored in directory: c:\\users\\harshvardhan bhosale\\appdata\\local\\pip\\cache\\wheels\\e1\\e8\\83\\ddea66100678d139b14bc87692ece57c6a2a937956d2532608\n",
      "Successfully built future promise\n",
      "Installing collected packages: googleapis-common-protos, absl-py, tqdm, tensorflow-metadata, promise, future, dill, attrs, tensorflow-datasets\n",
      "  Attempting uninstall: absl-py\n",
      "    Found existing installation: absl-py 0.15.0\n",
      "    Uninstalling absl-py-0.15.0:\n",
      "      Successfully uninstalled absl-py-0.15.0\n",
      "Successfully installed absl-py-0.12.0 attrs-21.2.0 dill-0.3.4 future-0.18.2 googleapis-common-protos-1.53.0 promise-2.3 tensorflow-datasets-4.4.0 tensorflow-metadata-1.4.0 tqdm-4.62.3\n"
     ]
    }
   ],
   "source": [
    "!pip install tensorflow-datasets"
   ]
  },
  {
   "cell_type": "code",
   "execution_count": 21,
   "metadata": {},
   "outputs": [
    {
     "name": "stdout",
     "output_type": "stream",
     "text": [
      "Collecting tensorflow_hub\n",
      "  Downloading tensorflow_hub-0.12.0-py2.py3-none-any.whl (108 kB)\n",
      "Requirement already satisfied: protobuf>=3.8.0 in c:\\users\\harshvardhan bhosale\\onedrive\\desktop\\foodvision101\\venv1\\lib\\site-packages (from tensorflow_hub) (3.19.1)\n",
      "Requirement already satisfied: numpy>=1.12.0 in c:\\users\\harshvardhan bhosale\\onedrive\\desktop\\foodvision101\\venv1\\lib\\site-packages (from tensorflow_hub) (1.21.4)\n",
      "Installing collected packages: tensorflow-hub\n",
      "Successfully installed tensorflow-hub-0.12.0\n"
     ]
    }
   ],
   "source": [
    "!pip install tensorflow_hub"
   ]
  },
  {
   "cell_type": "code",
   "execution_count": 22,
   "metadata": {},
   "outputs": [
    {
     "name": "stdout",
     "output_type": "stream",
     "text": [
      "Collecting seaborn\n",
      "  Using cached seaborn-0.11.2-py3-none-any.whl (292 kB)\n",
      "Requirement already satisfied: matplotlib>=2.2 in c:\\users\\harshvardhan bhosale\\onedrive\\desktop\\foodvision101\\venv1\\lib\\site-packages (from seaborn) (3.4.3)\n",
      "Collecting pandas>=0.23\n",
      "  Downloading pandas-1.3.4-cp39-cp39-win_amd64.whl (10.2 MB)\n",
      "Requirement already satisfied: numpy>=1.15 in c:\\users\\harshvardhan bhosale\\onedrive\\desktop\\foodvision101\\venv1\\lib\\site-packages (from seaborn) (1.21.4)\n",
      "Requirement already satisfied: scipy>=1.0 in c:\\users\\harshvardhan bhosale\\onedrive\\desktop\\foodvision101\\venv1\\lib\\site-packages (from seaborn) (1.7.2)\n",
      "Requirement already satisfied: kiwisolver>=1.0.1 in c:\\users\\harshvardhan bhosale\\onedrive\\desktop\\foodvision101\\venv1\\lib\\site-packages (from matplotlib>=2.2->seaborn) (1.3.2)\n",
      "Requirement already satisfied: python-dateutil>=2.7 in c:\\users\\harshvardhan bhosale\\onedrive\\desktop\\foodvision101\\venv1\\lib\\site-packages (from matplotlib>=2.2->seaborn) (2.8.2)\n",
      "Requirement already satisfied: pyparsing>=2.2.1 in c:\\users\\harshvardhan bhosale\\onedrive\\desktop\\foodvision101\\venv1\\lib\\site-packages (from matplotlib>=2.2->seaborn) (3.0.5)\n",
      "Requirement already satisfied: pillow>=6.2.0 in c:\\users\\harshvardhan bhosale\\onedrive\\desktop\\foodvision101\\venv1\\lib\\site-packages (from matplotlib>=2.2->seaborn) (8.4.0)\n",
      "Requirement already satisfied: cycler>=0.10 in c:\\users\\harshvardhan bhosale\\onedrive\\desktop\\foodvision101\\venv1\\lib\\site-packages (from matplotlib>=2.2->seaborn) (0.11.0)\n",
      "Collecting pytz>=2017.3\n",
      "  Downloading pytz-2021.3-py2.py3-none-any.whl (503 kB)\n",
      "Requirement already satisfied: six>=1.5 in c:\\users\\harshvardhan bhosale\\onedrive\\desktop\\foodvision101\\venv1\\lib\\site-packages (from python-dateutil>=2.7->matplotlib>=2.2->seaborn) (1.16.0)\n",
      "Installing collected packages: pytz, pandas, seaborn\n",
      "Successfully installed pandas-1.3.4 pytz-2021.3 seaborn-0.11.2\n"
     ]
    }
   ],
   "source": [
    "!pip install seaborn"
   ]
  },
  {
   "cell_type": "code",
   "execution_count": 23,
   "metadata": {},
   "outputs": [
    {
     "name": "stdout",
     "output_type": "stream",
     "text": [
      "Requirement already satisfied: tensorboard in c:\\users\\harshvardhan bhosale\\onedrive\\desktop\\foodvision101\\venv1\\lib\\site-packages (2.7.0)\n",
      "Requirement already satisfied: wheel>=0.26 in c:\\users\\harshvardhan bhosale\\onedrive\\desktop\\foodvision101\\venv1\\lib\\site-packages (from tensorboard) (0.37.0)\n",
      "Requirement already satisfied: numpy>=1.12.0 in c:\\users\\harshvardhan bhosale\\onedrive\\desktop\\foodvision101\\venv1\\lib\\site-packages (from tensorboard) (1.21.4)\n",
      "Requirement already satisfied: grpcio>=1.24.3 in c:\\users\\harshvardhan bhosale\\onedrive\\desktop\\foodvision101\\venv1\\lib\\site-packages (from tensorboard) (1.41.1)\n",
      "Requirement already satisfied: google-auth-oauthlib<0.5,>=0.4.1 in c:\\users\\harshvardhan bhosale\\onedrive\\desktop\\foodvision101\\venv1\\lib\\site-packages (from tensorboard) (0.4.6)\n",
      "Requirement already satisfied: absl-py>=0.4 in c:\\users\\harshvardhan bhosale\\onedrive\\desktop\\foodvision101\\venv1\\lib\\site-packages (from tensorboard) (0.12.0)\n",
      "Requirement already satisfied: werkzeug>=0.11.15 in c:\\users\\harshvardhan bhosale\\onedrive\\desktop\\foodvision101\\venv1\\lib\\site-packages (from tensorboard) (2.0.2)\n",
      "Requirement already satisfied: setuptools>=41.0.0 in c:\\users\\harshvardhan bhosale\\onedrive\\desktop\\foodvision101\\venv1\\lib\\site-packages (from tensorboard) (49.2.1)\n",
      "Requirement already satisfied: markdown>=2.6.8 in c:\\users\\harshvardhan bhosale\\onedrive\\desktop\\foodvision101\\venv1\\lib\\site-packages (from tensorboard) (3.3.4)\n",
      "Requirement already satisfied: requests<3,>=2.21.0 in c:\\users\\harshvardhan bhosale\\onedrive\\desktop\\foodvision101\\venv1\\lib\\site-packages (from tensorboard) (2.26.0)\n",
      "Requirement already satisfied: tensorboard-data-server<0.7.0,>=0.6.0 in c:\\users\\harshvardhan bhosale\\onedrive\\desktop\\foodvision101\\venv1\\lib\\site-packages (from tensorboard) (0.6.1)\n",
      "Requirement already satisfied: protobuf>=3.6.0 in c:\\users\\harshvardhan bhosale\\onedrive\\desktop\\foodvision101\\venv1\\lib\\site-packages (from tensorboard) (3.19.1)\n",
      "Requirement already satisfied: tensorboard-plugin-wit>=1.6.0 in c:\\users\\harshvardhan bhosale\\onedrive\\desktop\\foodvision101\\venv1\\lib\\site-packages (from tensorboard) (1.8.0)\n",
      "Requirement already satisfied: google-auth<3,>=1.6.3 in c:\\users\\harshvardhan bhosale\\onedrive\\desktop\\foodvision101\\venv1\\lib\\site-packages (from tensorboard) (2.3.3)\n",
      "Requirement already satisfied: six in c:\\users\\harshvardhan bhosale\\onedrive\\desktop\\foodvision101\\venv1\\lib\\site-packages (from absl-py>=0.4->tensorboard) (1.16.0)\n",
      "Requirement already satisfied: pyasn1-modules>=0.2.1 in c:\\users\\harshvardhan bhosale\\onedrive\\desktop\\foodvision101\\venv1\\lib\\site-packages (from google-auth<3,>=1.6.3->tensorboard) (0.2.8)\n",
      "Requirement already satisfied: cachetools<5.0,>=2.0.0 in c:\\users\\harshvardhan bhosale\\onedrive\\desktop\\foodvision101\\venv1\\lib\\site-packages (from google-auth<3,>=1.6.3->tensorboard) (4.2.4)\n",
      "Requirement already satisfied: rsa<5,>=3.1.4 in c:\\users\\harshvardhan bhosale\\onedrive\\desktop\\foodvision101\\venv1\\lib\\site-packages (from google-auth<3,>=1.6.3->tensorboard) (4.7.2)\n",
      "Requirement already satisfied: requests-oauthlib>=0.7.0 in c:\\users\\harshvardhan bhosale\\onedrive\\desktop\\foodvision101\\venv1\\lib\\site-packages (from google-auth-oauthlib<0.5,>=0.4.1->tensorboard) (1.3.0)\n",
      "Requirement already satisfied: certifi>=2017.4.17 in c:\\users\\harshvardhan bhosale\\onedrive\\desktop\\foodvision101\\venv1\\lib\\site-packages (from requests<3,>=2.21.0->tensorboard) (2021.10.8)\n",
      "Requirement already satisfied: urllib3<1.27,>=1.21.1 in c:\\users\\harshvardhan bhosale\\onedrive\\desktop\\foodvision101\\venv1\\lib\\site-packages (from requests<3,>=2.21.0->tensorboard) (1.26.7)\n",
      "Requirement already satisfied: idna<4,>=2.5 in c:\\users\\harshvardhan bhosale\\onedrive\\desktop\\foodvision101\\venv1\\lib\\site-packages (from requests<3,>=2.21.0->tensorboard) (3.3)\n",
      "Requirement already satisfied: charset-normalizer~=2.0.0 in c:\\users\\harshvardhan bhosale\\onedrive\\desktop\\foodvision101\\venv1\\lib\\site-packages (from requests<3,>=2.21.0->tensorboard) (2.0.7)\n",
      "Requirement already satisfied: pyasn1<0.5.0,>=0.4.6 in c:\\users\\harshvardhan bhosale\\onedrive\\desktop\\foodvision101\\venv1\\lib\\site-packages (from pyasn1-modules>=0.2.1->google-auth<3,>=1.6.3->tensorboard) (0.4.8)\n",
      "Requirement already satisfied: oauthlib>=3.0.0 in c:\\users\\harshvardhan bhosale\\onedrive\\desktop\\foodvision101\\venv1\\lib\\site-packages (from requests-oauthlib>=0.7.0->google-auth-oauthlib<0.5,>=0.4.1->tensorboard) (3.1.1)\n"
     ]
    }
   ],
   "source": [
    "!pip install tensorboard"
   ]
  },
  {
   "cell_type": "code",
   "execution_count": 26,
   "metadata": {},
   "outputs": [
    {
     "name": "stdout",
     "output_type": "stream",
     "text": [
      "2.7.0\n"
     ]
    }
   ],
   "source": [
    "import tensorflow as tf\n",
    "print(tf.__version__)"
   ]
  },
  {
   "cell_type": "code",
   "execution_count": 29,
   "metadata": {},
   "outputs": [
    {
     "name": "stdout",
     "output_type": "stream",
     "text": [
      "Requirement already satisfied: zipfile39 in c:\\users\\harshvardhan bhosale\\onedrive\\desktop\\foodvision101\\venv1\\lib\\site-packages (0.0.4.2)\n"
     ]
    }
   ],
   "source": [
    "!pip install zipfile39"
   ]
  },
  {
   "cell_type": "code",
   "execution_count": 30,
   "metadata": {},
   "outputs": [
    {
     "name": "stdout",
     "output_type": "stream",
     "text": [
      "Requirement already satisfied: pandas in c:\\users\\harshvardhan bhosale\\onedrive\\desktop\\foodvision101\\venv1\\lib\\site-packages (1.3.4)\n",
      "Requirement already satisfied: numpy>=1.17.3 in c:\\users\\harshvardhan bhosale\\onedrive\\desktop\\foodvision101\\venv1\\lib\\site-packages (from pandas) (1.21.4)\n",
      "Requirement already satisfied: pytz>=2017.3 in c:\\users\\harshvardhan bhosale\\onedrive\\desktop\\foodvision101\\venv1\\lib\\site-packages (from pandas) (2021.3)\n",
      "Requirement already satisfied: python-dateutil>=2.7.3 in c:\\users\\harshvardhan bhosale\\onedrive\\desktop\\foodvision101\\venv1\\lib\\site-packages (from pandas) (2.8.2)\n",
      "Requirement already satisfied: six>=1.5 in c:\\users\\harshvardhan bhosale\\onedrive\\desktop\\foodvision101\\venv1\\lib\\site-packages (from python-dateutil>=2.7.3->pandas) (1.16.0)\n"
     ]
    }
   ],
   "source": [
    "!pip install pandas"
   ]
  }
 ],
 "metadata": {
  "kernelspec": {
   "display_name": "venv1kernel",
   "language": "python",
   "name": "venv1kernel"
  },
  "language_info": {
   "codemirror_mode": {
    "name": "ipython",
    "version": 3
   },
   "file_extension": ".py",
   "mimetype": "text/x-python",
   "name": "python",
   "nbconvert_exporter": "python",
   "pygments_lexer": "ipython3",
   "version": "3.9.0"
  }
 },
 "nbformat": 4,
 "nbformat_minor": 4
}
